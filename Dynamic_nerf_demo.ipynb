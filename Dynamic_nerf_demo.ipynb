{
  "cells": [
    {
      "cell_type": "code",
      "execution_count": null,
      "metadata": {
        "id": "uPWCWfjiLsP6"
      },
      "outputs": [],
      "source": [
        "#@title # Mount Google Drive { vertical-output: true }\n",
        "\n",
        "%cd /content/\n",
        "# fixes weird permissions error with gdown\n",
        "!pip install --upgrade --no-cache-dir gdown\n",
        "\n",
        "from google.colab import drive\n",
        "import time\n",
        "\n",
        "drive.mount('/content/gdrive', force_remount=True)"
      ]
    },
    {
      "cell_type": "code",
      "execution_count": null,
      "metadata": {
        "id": "O2_x3JiJcm-6"
      },
      "outputs": [],
      "source": [
        "#@title # Install tinycudann, nerfstudio, deps { vertical-output: true }\n",
        "\n",
        "%cd /content/\n",
        "!pip install --upgrade pip\n",
        "\n",
        "# Building takes too long, so we these grab pre-built from wheelhouse\n",
        "!pip install --no-index --find-links=/content/gdrive/MyDrive/colab/wheelhouse tinycudann nerfstudio\n",
        "\n",
        "# Install localtunnel\n",
        "# We are using localtunnel https://github.com/localtunnel/localtunnel but ngrok could also be used\n",
        "!npm install -g localtunnel"
      ]
    },
    {
      "cell_type": "code",
      "execution_count": null,
      "metadata": {
        "id": "af2mLY-Q3NN6"
      },
      "outputs": [],
      "source": [
        "#@title # Config { vertical-output: true }\n",
        "\n",
        "scene = \"lego\"\n",
        "dataset = \"dnerf\"\n",
        "gd_scene_dir = f\"/content/gdrive/MyDrive/colab/data/{dataset}/{scene}\"\n",
        "scene_dir          = f\"/content/data/{dataset}/{scene}\"\n",
        "contains_scene_dir = f\"/content/data/{dataset}\"\n",
        "experiment_name = \"experiment_01\"\n"
      ]
    },
    {
      "cell_type": "code",
      "execution_count": 20,
      "metadata": {
        "id": "K1usugT3bzHP"
      },
      "outputs": [],
      "source": [
        "#@title # Copy dataset { vertical-output: true }\n",
        "\n",
        "!mkdir -p $contains_scene_dir\n",
        "!cp -r $gd_scene_dir $contains_scene_dir"
      ]
    },
    {
      "cell_type": "code",
      "execution_count": null,
      "metadata": {
        "id": "y9VRb-tuqiw5"
      },
      "outputs": [],
      "source": [
        "#@title # Set up and Start Viewer { vertical-output: true }\n",
        "\n",
        "%cd /content\n",
        "\n",
        "# Tunnel port 7007, the default for\n",
        "!rm url.txt 2> /dev/null\n",
        "get_ipython().system_raw('lt --port 7007 >> url.txt 2>&1 &')\n",
        "\n",
        "import time\n",
        "time.sleep(3) # the previous command needs time to write to url.txt\n",
        "\n",
        "with open('url.txt') as f:\n",
        "  lines = f.readlines()\n",
        "websocket_url = lines[0].split(\": \")[1].strip().replace(\"https\", \"wss\")\n",
        "url = f\"https://viewer.nerf.studio/?websocket_url={websocket_url}\"\n",
        "print(url)"
      ]
    },
    {
      "cell_type": "code",
      "execution_count": null,
      "metadata": {
        "id": "nsb_C2RbbzJk",
        "colab": {
          "base_uri": "https://localhost:8080/"
        },
        "outputId": "47e7935c-9b4a-4462-ad06-3d22c510b59f"
      },
      "outputs": [
        {
          "output_type": "stream",
          "name": "stdout",
          "text": [
            "/content\n"
          ]
        }
      ],
      "source": [
        "#@title # Start Training { vertical-output: true }\n",
        "\n",
        "import os\n",
        "from IPython.core.display import display, HTML\n",
        "\n",
        "%cd /content\n",
        "\n",
        "!ns-train \\\n",
        "  nerfplayer-nerfacto \\\n",
        "    --experiment-name $experiment_name \\\n",
        "    --viewer.websocket-port 7007 \\\n",
        "    --pipeline.model.proposal-initial-sampler uniform \\\n",
        "    --pipeline.model.near-plane 2. \\\n",
        "    --pipeline.model.far-plane 6. \\\n",
        "    --pipeline.datamanager.camera-optimizer.mode off \\\n",
        "    --pipeline.model.use-average-appearance-embedding False \\\n",
        "    --pipeline.model.distortion-loss-mult 0 \\\n",
        "    --pipeline.model.disable-scene-contraction True \\\n",
        "  dnerf-data \\\n",
        "    --data $scene_dir \\\n",
        "> stdout.txt 2> stderr.txt"
      ]
    },
    {
      "cell_type": "code",
      "execution_count": null,
      "metadata": {
        "id": "16b3vlMPbS0M"
      },
      "outputs": [],
      "source": [
        "#@title # Render Video { vertical-output: true }\n",
        "#@markdown <h3>Export the camera path from within the viewer, then run this cell.</h3>\n",
        "#@markdown <h5>The rendered video should be at renders/output.mp4!</h5>\n",
        "\n",
        "from google.colab import files\n",
        "import os\n",
        "from IPython.core.display import display, HTML\n",
        "\n",
        "render_dir = \"/content/gdrive/MyDrive/colab/renders\"\n",
        "!mkdir $render_dir\n",
        "render_path = f\"{render_dir}/output.mp4\"\n",
        "\n",
        "base_dir = f\"/content/outputs/{experiment_name}/nerfacto\" \n",
        "training_run_dir = base_dir + \"/\" + os.listdir(base_dir)[0]\n",
        "\n",
        "display(HTML('<h3>Upload the camera path JSON.</h3>'))\n",
        "%cd $training_run_dir\n",
        "uploaded = files.upload()\n",
        "uploaded_camera_path_filename = list(uploaded.keys())[0]\n",
        "\n",
        "config_filename = training_run_dir + \"/config.yml\"\n",
        "camera_path_filename = training_run_dir + \"/\" + uploaded_camera_path_filename\n",
        "camera_path_filename = camera_path_filename.replace(\" \", \"\\\\ \").replace(\"(\", \"\\\\(\").replace(\")\", \"\\\\)\")\n",
        "\n",
        "%cd /content/\n",
        "!ns-render \\\n",
        "  --load-config $config_filename \\\n",
        "  --traj filename \\\n",
        "  --camera-path-filename $camera_path_filename \\\n",
        "  --output-path $render_path #> stdout.txt"
      ]
    }
  ],
  "metadata": {
    "accelerator": "GPU",
    "colab": {
      "provenance": []
    },
    "gpuClass": "standard",
    "kernelspec": {
      "display_name": "Python 3",
      "name": "python3"
    },
    "language_info": {
      "name": "python"
    }
  },
  "nbformat": 4,
  "nbformat_minor": 0
}