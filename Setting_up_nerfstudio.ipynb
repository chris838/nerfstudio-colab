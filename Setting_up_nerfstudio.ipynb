{
  "nbformat": 4,
  "nbformat_minor": 0,
  "metadata": {
    "colab": {
      "provenance": []
    },
    "kernelspec": {
      "name": "python3",
      "display_name": "Python 3"
    },
    "language_info": {
      "name": "python"
    },
    "accelerator": "GPU",
    "gpuClass": "standard"
  },
  "cells": [
    {
      "cell_type": "markdown",
      "source": [
        "# Before you start\n",
        "\n",
        "- You'll need a Google Drive account to connect to.\n",
        "- Ensure you've selected the `GPU` runtime type in Colab, under `Runtime->Change runtime type->Hardware acceleration`"
      ],
      "metadata": {
        "id": "PbmlQ93kz2bn"
      }
    },
    {
      "cell_type": "markdown",
      "source": [
        "# Build wheelhouse\n",
        "\n",
        "Setup is painfully slow for Colab notebooks, these scripts try to pre-build wheels to speed things up.\n",
        "\n",
        "You should be able to build once and re-use. If you find you're getting errors with `tiny-cuda-nn`, you might need to rebuild - although this should be rare (e.g. if Colab updates their python runtime).\n",
        "\n",
        "You can either use the nerfstudio version we build here, or build your own from source in your own notebook - so long as the dependencies remain the same."
      ],
      "metadata": {
        "id": "clgOvGo5kSoL"
      }
    },
    {
      "cell_type": "code",
      "source": [
        "%cd /content/\n",
        "!pip install --upgrade pip\n",
        "\n",
        "# Create wheelhouse that we'll populate with pre-built wheels\n",
        "!mkdir wheelhouse"
      ],
      "metadata": {
        "id": "56YRnlvPRHGl"
      },
      "execution_count": null,
      "outputs": []
    },
    {
      "cell_type": "code",
      "source": [
        "# Build the python bindings from tiny-cuda-nn and copy to wheelhouse\n",
        "%cd /content/\n",
        "!git clone --recursive https://github.com/NVlabs/tiny-cuda-nn\n",
        "%cd tiny-cuda-nn/bindings/torch\n",
        "!python setup.py bdist_wheel\n",
        "%cp dist/*.whl /content/wheelhouse/\n",
        "\n",
        "# Test installing tinycudann from wheelhouse\n",
        "%cd /content/\n",
        "!pip install --no-index --find-links=/content/wheelhouse tinycudann\n"
      ],
      "metadata": {
        "id": "dk0L64M-avzJ"
      },
      "execution_count": null,
      "outputs": []
    },
    {
      "cell_type": "code",
      "source": [
        "# Build nerfstudio into wheelhouse\n",
        "# Substitute a different branch/commit, if required\n",
        "%cd /content/\n",
        "!git clone -b nerfplayer-testing --single-branch https://github.com/chris838/nerfstudio.git\n",
        "%cd nerfstudio\n",
        "!pip wheel . --wheel-dir /content/wheelhouse\n",
        "\n",
        "# Test installing nerfstudio from wheelhouse\n",
        "%cd /content/\n",
        "!pip install --no-index --find-links=/content/wheelhouse nerfstudio"
      ],
      "metadata": {
        "id": "bj94XcqBRPQj"
      },
      "execution_count": null,
      "outputs": []
    },
    {
      "cell_type": "markdown",
      "source": [
        "# Mount Google Drive\n",
        "\n",
        "Google Drive is typically the easiest way to re-use data across notebooks and sessions."
      ],
      "metadata": {
        "id": "Srqm_FQpx3Y3"
      }
    },
    {
      "cell_type": "code",
      "source": [
        "# Mount Google Drive (will prompt for permission)\n",
        "%cd /content/\n",
        "from google.colab import drive\n",
        "drive.mount('/content/gdrive', force_remount=True)"
      ],
      "metadata": {
        "id": "5a4PDttCx3fE"
      },
      "execution_count": null,
      "outputs": []
    },
    {
      "cell_type": "markdown",
      "source": [
        "# Copy wheelhouse to Google Drive\n",
        "\n"
      ],
      "metadata": {
        "id": "yyT3Qs1Fm-N6"
      }
    },
    {
      "cell_type": "code",
      "source": [
        "# Copy wheelhouse\n",
        "%cd /content/\n",
        "%mkdir /content/gdrive/MyDrive/colab/\n",
        "%cp -r wheelhouse /content/gdrive/MyDrive/colab/"
      ],
      "metadata": {
        "id": "T8kJVBTCqDmx"
      },
      "execution_count": null,
      "outputs": []
    },
    {
      "cell_type": "markdown",
      "source": [
        "# [OPTIONAL] Test nerfstudio install from Google Drive\n",
        "\n",
        "Redundant if you're running through this end-to-end, but useful for debugging."
      ],
      "metadata": {
        "id": "AcmRsTnExvxz"
      }
    },
    {
      "cell_type": "code",
      "source": [
        "%cd /content/\n",
        "!pip install --no-index --find-links=/content/gdrive/MyDrive/colab/wheelhouse nerfstudio tinycudann"
      ],
      "metadata": {
        "id": "3XbbRZzXxu1Z"
      },
      "execution_count": null,
      "outputs": []
    },
    {
      "cell_type": "markdown",
      "source": [
        "# Copy test data to Google Drive\n",
        "\n",
        "Copies some test datasets to Google Drive, which we can then test and run in the main notebook.\n",
        "\n",
        "This may seem superfluous, but it does provide a blueprint for putting your own data in Google Drive and accessing it from Colab notebooks."
      ],
      "metadata": {
        "id": "bDOY7WnwrOzu"
      }
    },
    {
      "cell_type": "code",
      "source": [
        "# Create data dir\n",
        "%cd /content/\n",
        "%mkdir /content/gdrive/MyDrive/colab/data"
      ],
      "metadata": {
        "id": "b7Pvyd7vsg6r"
      },
      "execution_count": null,
      "outputs": []
    },
    {
      "cell_type": "code",
      "source": [
        "# Copy nerf_synthetic dataset\n",
        "%cd /content/\n",
        "!ns-download-data blender --save-dir /content/gdrive/MyDrive/colab/data"
      ],
      "metadata": {
        "id": "BeyxMm40sTl9"
      },
      "execution_count": null,
      "outputs": []
    },
    {
      "cell_type": "code",
      "source": [
        "# Copy dynamic nerf dataset\n",
        "!ns-download-data dnerf --save-dir /content/gdrive/MyDrive/colab/data"
      ],
      "metadata": {
        "id": "hzguMMn2ta7l"
      },
      "execution_count": null,
      "outputs": []
    }
  ]
}